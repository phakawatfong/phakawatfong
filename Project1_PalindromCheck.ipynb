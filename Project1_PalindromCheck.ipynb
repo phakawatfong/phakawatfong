{
 "cells": [
  {
   "cell_type": "code",
   "execution_count": 12,
   "id": "284937ae",
   "metadata": {},
   "outputs": [
    {
     "name": "stdout",
     "output_type": "stream",
     "text": [
      "Try to put your word here: I am HosTy:, YtSoHmaI\n",
      "This word is a palindrom, True\n",
      "['i', 'a', 'm', 'h', 'o', 's', 't', 'y', ',', 'y', 't', 's', 'o', 'h', 'm', 'a', 'i']\n",
      "iamhosty,ytsohmai\n",
      "iamhosty,ytsohmai\n"
     ]
    }
   ],
   "source": [
    "def palindrom_check(myword):\n",
    "    mylist = []\n",
    "    for t in myword:\n",
    "        mylist.append(t.lower())\n",
    "        if ' ' in mylist:\n",
    "            mylist.remove(' ')\n",
    "            continue\n",
    "        elif '-' in mylist:\n",
    "            mylist.remove('-')\n",
    "            continue\n",
    "        elif '=' in mylist:\n",
    "            mylist.remove('=')\n",
    "            continue\n",
    "        elif '+' in mylist:\n",
    "            mylist.remove('+')\n",
    "            continue\n",
    "        elif ':' in mylist:\n",
    "            mylist.remove(':')\n",
    "            continue\n",
    "        elif ';' in mylist:\n",
    "            mylist.remove(';')\n",
    "            continue\n",
    "        else:\n",
    "            newlist = mylist[::-1]\n",
    "\n",
    "        old_word = ''.join(mylist)\n",
    "        new_word = ''.join(newlist)\n",
    "        \n",
    "    if old_word == new_word:\n",
    "        print('This word is a palindrom, True')\n",
    "    else:\n",
    "        print('False')\n",
    "\n",
    "    print(mylist)\n",
    "    print(old_word)\n",
    "    print(new_word)\n",
    "\n",
    "myword = input('Try to put your word here: ')\n",
    "palindrom_check(myword)"
   ]
  },
  {
   "cell_type": "code",
   "execution_count": null,
   "id": "e7352e2b",
   "metadata": {},
   "outputs": [],
   "source": []
  }
 ],
 "metadata": {
  "kernelspec": {
   "display_name": "Python 3 (ipykernel)",
   "language": "python",
   "name": "python3"
  },
  "language_info": {
   "codemirror_mode": {
    "name": "ipython",
    "version": 3
   },
   "file_extension": ".py",
   "mimetype": "text/x-python",
   "name": "python",
   "nbconvert_exporter": "python",
   "pygments_lexer": "ipython3",
   "version": "3.9.12"
  }
 },
 "nbformat": 4,
 "nbformat_minor": 5
}
